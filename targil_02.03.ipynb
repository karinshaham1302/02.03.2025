{
 "cells": [
  {
   "cell_type": "code",
   "execution_count": 1,
   "id": "440089f7-4439-4159-917e-f04577777dc8",
   "metadata": {},
   "outputs": [],
   "source": [
    "import numpy as np\n",
    "from IPython.display import display"
   ]
  },
  {
   "cell_type": "code",
   "execution_count": 3,
   "id": "7bb343cd-610c-48cb-96e1-a55cf4e6acdf",
   "metadata": {},
   "outputs": [
    {
     "data": {
      "text/plain": [
       "array([18, 19, 20, 21, 22, 23, 24, 25, 26, 27, 28, 29, 30, 31, 32, 33, 34,\n",
       "       35, 36, 37, 38, 39, 40, 41, 42, 43, 44, 45, 46, 47, 48, 49, 50, 51,\n",
       "       52, 53])"
      ]
     },
     "metadata": {},
     "output_type": "display_data"
    }
   ],
   "source": [
    "# 1\n",
    "numpy_array = np.arange(18, 54)\n",
    "display(numpy_array)"
   ]
  },
  {
   "cell_type": "code",
   "execution_count": 13,
   "id": "14ae0b79-5337-4577-839d-abca2538cd36",
   "metadata": {},
   "outputs": [
    {
     "data": {
      "text/plain": [
       "array([[18, 19, 20, 21, 22, 23],\n",
       "       [24, 25, 26, 27, 28, 29],\n",
       "       [30, 31, 32, 33, 34, 35],\n",
       "       [36, 37, 38, 39, 40, 41],\n",
       "       [42, 43, 44, 45, 46, 47],\n",
       "       [48, 49, 50, 51, 52, 53]])"
      ]
     },
     "metadata": {},
     "output_type": "display_data"
    }
   ],
   "source": [
    "# 2\n",
    "reshaped_array = numpy_array.reshape(6, 6)\n",
    "display(reshaped_array)"
   ]
  },
  {
   "cell_type": "code",
   "execution_count": 19,
   "id": "4ae4183b-421e-4d3f-b1e8-fbc2c0e71985",
   "metadata": {},
   "outputs": [
    {
     "data": {
      "text/plain": [
       "38"
      ]
     },
     "metadata": {},
     "output_type": "display_data"
    }
   ],
   "source": [
    "# 3\n",
    "index = reshaped_array[3, 2]\n",
    "display(index)"
   ]
  },
  {
   "cell_type": "code",
   "execution_count": 49,
   "id": "5852c729-ca58-436e-9753-5b772fd8d9e7",
   "metadata": {},
   "outputs": [
    {
     "data": {
      "text/plain": [
       "55"
      ]
     },
     "metadata": {},
     "output_type": "display_data"
    }
   ],
   "source": [
    "# 4 \n",
    "# I didn't get the number: 59\n",
    "display(38 + 17)"
   ]
  },
  {
   "cell_type": "code",
   "execution_count": 51,
   "id": "9705d30f-00c5-4a5d-bd1a-314675f8ea8c",
   "metadata": {},
   "outputs": [],
   "source": [
    "# 1\n",
    "np.random.seed(42)"
   ]
  },
  {
   "cell_type": "code",
   "execution_count": 53,
   "id": "1995f413-d57f-4c45-939e-11893264f420",
   "metadata": {},
   "outputs": [
    {
     "data": {
      "text/plain": [
       "array([[ 52,  93,  15,  72,  61],\n",
       "       [ 21,  83,  87,  75,  75],\n",
       "       [ 88, 100,  24,   3,  22],\n",
       "       [ 53,   2,  88,  30,  38],\n",
       "       [  2,  64,  60,  21,  33]])"
      ]
     },
     "metadata": {},
     "output_type": "display_data"
    }
   ],
   "source": [
    "# 2\n",
    "rand_array = np.random.randint(1, 101, (5, 5))\n",
    "display(rand_array)"
   ]
  },
  {
   "cell_type": "code",
   "execution_count": 55,
   "id": "fc492db6-b642-4dae-87ff-f3cdd9995c91",
   "metadata": {},
   "outputs": [
    {
     "name": "stdout",
     "output_type": "stream",
     "text": [
      "max: 100\n"
     ]
    }
   ],
   "source": [
    "# 3 \n",
    "print('max:', rand_array.max())"
   ]
  },
  {
   "cell_type": "code",
   "execution_count": 57,
   "id": "afa5071c-eb4b-4da4-b003-48c6c485cd30",
   "metadata": {},
   "outputs": [
    {
     "data": {
      "text/plain": [
       "57.0"
      ]
     },
     "metadata": {},
     "output_type": "display_data"
    }
   ],
   "source": [
    "# 4\n",
    "max_value = rand_array.max()\n",
    "result = (max_value / 2) + 7\n",
    "display(result)"
   ]
  },
  {
   "cell_type": "code",
   "execution_count": 59,
   "id": "70e1fca2-ecd2-41bd-be22-b04aa31e22c5",
   "metadata": {},
   "outputs": [],
   "source": [
    "# 5\n",
    "# I didn't get the number: 54"
   ]
  }
 ],
 "metadata": {
  "kernelspec": {
   "display_name": "Python 3 (ipykernel)",
   "language": "python",
   "name": "python3"
  },
  "language_info": {
   "codemirror_mode": {
    "name": "ipython",
    "version": 3
   },
   "file_extension": ".py",
   "mimetype": "text/x-python",
   "name": "python",
   "nbconvert_exporter": "python",
   "pygments_lexer": "ipython3",
   "version": "3.12.7"
  }
 },
 "nbformat": 4,
 "nbformat_minor": 5
}
